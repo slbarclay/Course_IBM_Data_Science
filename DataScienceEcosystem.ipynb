{
 "cells": [
  {
   "cell_type": "code",
   "execution_count": 5,
   "id": "17a86000-8690-4d82-b104-91216a5431a2",
   "metadata": {},
   "outputs": [],
   "source": [
    "## Exercise 2 - Markdown cell with H1 heading of \"Data Science Tools and Ecosystem\""
   ]
  },
  {
   "cell_type": "markdown",
   "id": "23924c42-17cc-4d58-8b4d-fbc42eeffc6f",
   "metadata": {
    "editable": true,
    "panel-layout": {
     "height": 94.875,
     "visible": true,
     "width": 100
    },
    "slideshow": {
     "slide_type": ""
    },
    "tags": []
   },
   "source": [
    "# Data Science Tools and Ecosystem"
   ]
  },
  {
   "cell_type": "code",
   "execution_count": 9,
   "id": "d8d63969-8653-453b-921a-1892add089d5",
   "metadata": {},
   "outputs": [],
   "source": [
    "## Exercise 3 - Create a markdown cell for an introduction "
   ]
  },
  {
   "cell_type": "markdown",
   "id": "837b68d0-5625-46f1-982c-be491c628558",
   "metadata": {
    "panel-layout": {
     "height": 68.2708,
     "visible": true,
     "width": 100
    }
   },
   "source": [
    "In this notebook, Data Science Tools and Ecosystem are summerized"
   ]
  },
  {
   "cell_type": "code",
   "execution_count": 78,
   "id": "cf4cc646-db38-4152-8e7d-582a2c608d01",
   "metadata": {},
   "outputs": [],
   "source": [
    "## Exerice 10 - Insert a markdown cell to list objectives"
   ]
  },
  {
   "cell_type": "markdown",
   "id": "0c825085-5b47-482a-bfdc-65317e9714fd",
   "metadata": {
    "panel-layout": {
     "height": 183.08334350585938,
     "visible": true,
     "width": 100
    }
   },
   "source": [
    "**Objectives:**\n",
    "- List different Data Science: Languages, Libraries, and Tools\n",
    "- Work with headers of different sizes\n",
    "- Create both markdown and code based cells\n",
    "- Work with ordered and unordered lists\n",
    "- Demonstrate basic arithmetic functionality\n",
    "- Convert Minutes into Hours\n",
    "- Alter font styling"
   ]
  },
  {
   "cell_type": "code",
   "execution_count": 12,
   "id": "6df92ae7-f828-4feb-9344-96bd5033e92a",
   "metadata": {},
   "outputs": [],
   "source": [
    "## Exerice 4 - Create a markdown cell to list data science languages"
   ]
  },
  {
   "cell_type": "markdown",
   "id": "33f2159f-090e-41e9-988a-892eda19baad",
   "metadata": {
    "panel-layout": {
     "height": 148.812,
     "visible": true,
     "width": 100
    }
   },
   "source": [
    "Some of the popular languages that Data Sciencists use are:\n",
    "1. Python\n",
    "2. R\n",
    "3. Julia\n",
    "4. Scala\n",
    "5. SQL"
   ]
  },
  {
   "cell_type": "code",
   "execution_count": null,
   "id": "9be70159-cc44-4d67-b119-0ca095af9039",
   "metadata": {},
   "outputs": [],
   "source": [
    "## Exercie 5 - Create a markdown cell to list data science libraries"
   ]
  },
  {
   "cell_type": "markdown",
   "id": "d0fd241f-5169-4d64-816b-d6e30b6eaf4c",
   "metadata": {
    "panel-layout": {
     "height": 148.812,
     "visible": true,
     "width": 100
    }
   },
   "source": [
    "Some of the commonly used libraries used by Data Scientists include:\n",
    "1. Pandas\n",
    "2. Numpy\n",
    "3. Matplotlib\n",
    "4. Scikit-learn"
   ]
  },
  {
   "cell_type": "code",
   "execution_count": 19,
   "id": "22db73fb-6655-4da1-ac0c-d0c93c47f7f8",
   "metadata": {},
   "outputs": [],
   "source": [
    "## Exercise 6 - Create a markdown cell with a table of Data Science Tools"
   ]
  },
  {
   "cell_type": "markdown",
   "id": "9751f88a-8ddc-413c-bdaf-bb8c35b9e414",
   "metadata": {
    "panel-layout": {
     "height": 121.875,
     "visible": true,
     "width": 100
    }
   },
   "source": [
    "|Data Science Tools|\n",
    "|------|\n",
    "|RStudio|\n",
    "|Jupyter Lab / Notebooks|\n",
    "|Spyder|"
   ]
  },
  {
   "cell_type": "code",
   "execution_count": 24,
   "id": "16917d54-1443-4dc8-833d-936654fc0477",
   "metadata": {},
   "outputs": [],
   "source": [
    "## Exercise 7 - Create a marekdown cell introducting arithmetic expression examples"
   ]
  },
  {
   "cell_type": "markdown",
   "id": "824a59c7-5ec4-4dc2-ab7e-54fc1d45d842",
   "metadata": {
    "panel-layout": {
     "height": 64.125,
     "visible": true,
     "width": 100
    }
   },
   "source": [
    "### Below are a few examples of evaluating arithmetic expressions in Python"
   ]
  },
  {
   "cell_type": "code",
   "execution_count": 28,
   "id": "ab1a72b6-5c0a-4cfb-b03f-c2a9633e1b14",
   "metadata": {},
   "outputs": [],
   "source": [
    "## Exercise 8 - Create a code cell to multiply and add numbers"
   ]
  },
  {
   "cell_type": "code",
   "execution_count": 30,
   "id": "7294dc21-4756-49c9-b17a-da94b825a4d7",
   "metadata": {
    "panel-layout": {
     "height": 27.1354,
     "visible": true,
     "width": 100
    }
   },
   "outputs": [
    {
     "data": {
      "text/plain": [
       "17"
      ]
     },
     "execution_count": 30,
     "metadata": {},
     "output_type": "execute_result"
    }
   ],
   "source": [
    "## This is a simple arithmetic expression to multiply and then add an integer\n",
    "(3*4)+5"
   ]
  },
  {
   "cell_type": "code",
   "execution_count": 32,
   "id": "2b829bf9-d11e-4ab1-9cbc-efeaf2f75e70",
   "metadata": {},
   "outputs": [],
   "source": [
    "## Exerice 9 - Create a code cell to convert minutes to hours"
   ]
  },
  {
   "cell_type": "code",
   "execution_count": 72,
   "id": "db16ae9b-3a24-4581-a486-c17f6b1b8217",
   "metadata": {
    "panel-layout": {
     "height": 10,
     "visible": true,
     "width": 100
    }
   },
   "outputs": [
    {
     "name": "stdout",
     "output_type": "stream",
     "text": [
      "200 Minutes converted into hours is:\n"
     ]
    },
    {
     "data": {
      "text/plain": [
       "3.33"
      ]
     },
     "execution_count": 72,
     "metadata": {},
     "output_type": "execute_result"
    }
   ],
   "source": [
    "## This will convert 200 minutes to hours by dividing by 60\n",
    "print(\"200 Minutes converted into hours is:\")\n",
    "round(200/60,2)\n"
   ]
  },
  {
   "cell_type": "code",
   "execution_count": 74,
   "id": "3ac0e9f8-7442-4ac3-8373-068ba1a42562",
   "metadata": {
    "editable": true,
    "slideshow": {
     "slide_type": ""
    },
    "tags": []
   },
   "outputs": [],
   "source": [
    "# Exerice 11 - Create a markdown cell to indicate the Author's name"
   ]
  },
  {
   "cell_type": "markdown",
   "id": "d51403ac-8b1a-4021-a7fe-3721ab55a937",
   "metadata": {
    "editable": true,
    "panel-layout": {
     "height": 84.39583587646484,
     "visible": true,
     "width": 100
    },
    "slideshow": {
     "slide_type": ""
    },
    "tags": []
   },
   "source": [
    "## Author\n",
    "Stewart Barclay,\n",
    "\n",
    "B. Info Sys., B.B.A. [Finance], B.A. [Psych. Hons, SCFP]"
   ]
  },
  {
   "cell_type": "code",
   "execution_count": null,
   "id": "33ac4570-1b99-44f2-9b92-1132077f0435",
   "metadata": {},
   "outputs": [],
   "source": []
  }
 ],
 "metadata": {
  "kernelspec": {
   "display_name": "Python [conda env:base] *",
   "language": "python",
   "name": "conda-base-py"
  },
  "language_info": {
   "codemirror_mode": {
    "name": "ipython",
    "version": 3
   },
   "file_extension": ".py",
   "mimetype": "text/x-python",
   "name": "python",
   "nbconvert_exporter": "python",
   "pygments_lexer": "ipython3",
   "version": "3.12.7"
  },
  "panel-cell-order": [
   "23924c42-17cc-4d58-8b4d-fbc42eeffc6f",
   "837b68d0-5625-46f1-982c-be491c628558",
   "33f2159f-090e-41e9-988a-892eda19baad",
   "d0fd241f-5169-4d64-816b-d6e30b6eaf4c",
   "9751f88a-8ddc-413c-bdaf-bb8c35b9e414",
   "824a59c7-5ec4-4dc2-ab7e-54fc1d45d842",
   "7294dc21-4756-49c9-b17a-da94b825a4d7",
   "db16ae9b-3a24-4581-a486-c17f6b1b8217",
   "0c825085-5b47-482a-bfdc-65317e9714fd",
   "d51403ac-8b1a-4021-a7fe-3721ab55a937"
  ]
 },
 "nbformat": 4,
 "nbformat_minor": 5
}
